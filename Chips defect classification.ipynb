{
 "cells": [
  {
   "cell_type": "markdown",
   "id": "d7fa2bde",
   "metadata": {},
   "source": [
    "## Deep Learning model to identify defects in semiconductor Wafer"
   ]
  },
  {
   "cell_type": "markdown",
   "id": "951882df",
   "metadata": {},
   "source": [
    "Data source is from kaggle linnk https://www.kaggle.com/datasets/qingyi/wm811k-wafer-map?resource=download"
   ]
  },
  {
   "cell_type": "code",
   "execution_count": 98,
   "id": "82f1cec5",
   "metadata": {},
   "outputs": [],
   "source": [
    "import numpy as np\n",
    "import pandas as pd\n",
    "import cv2\n",
    "import os\n",
    "import pickle"
   ]
  },
  {
   "cell_type": "code",
   "execution_count": 99,
   "id": "23a31b0e",
   "metadata": {},
   "outputs": [],
   "source": [
    "for file in os.listdir(r\"C:\\Users\\anees\\Downloads\\LSWMD\"):\n",
    "    path= r\"C:\\Users\\anees\\Downloads\\LSWMD\\\\\"\n",
    "    data=pd.read_pickle(path+file)"
   ]
  },
  {
   "cell_type": "code",
   "execution_count": 100,
   "id": "5c6a9568",
   "metadata": {},
   "outputs": [
    {
     "data": {
      "text/html": [
       "<div>\n",
       "<style scoped>\n",
       "    .dataframe tbody tr th:only-of-type {\n",
       "        vertical-align: middle;\n",
       "    }\n",
       "\n",
       "    .dataframe tbody tr th {\n",
       "        vertical-align: top;\n",
       "    }\n",
       "\n",
       "    .dataframe thead th {\n",
       "        text-align: right;\n",
       "    }\n",
       "</style>\n",
       "<table border=\"1\" class=\"dataframe\">\n",
       "  <thead>\n",
       "    <tr style=\"text-align: right;\">\n",
       "      <th></th>\n",
       "      <th>dieSize</th>\n",
       "      <th>waferIndex</th>\n",
       "    </tr>\n",
       "  </thead>\n",
       "  <tbody>\n",
       "    <tr>\n",
       "      <th>count</th>\n",
       "      <td>811457.000000</td>\n",
       "      <td>811457.000000</td>\n",
       "    </tr>\n",
       "    <tr>\n",
       "      <th>mean</th>\n",
       "      <td>1840.998585</td>\n",
       "      <td>12.961207</td>\n",
       "    </tr>\n",
       "    <tr>\n",
       "      <th>std</th>\n",
       "      <td>2254.987374</td>\n",
       "      <td>7.207489</td>\n",
       "    </tr>\n",
       "    <tr>\n",
       "      <th>min</th>\n",
       "      <td>3.000000</td>\n",
       "      <td>1.000000</td>\n",
       "    </tr>\n",
       "    <tr>\n",
       "      <th>25%</th>\n",
       "      <td>710.000000</td>\n",
       "      <td>7.000000</td>\n",
       "    </tr>\n",
       "    <tr>\n",
       "      <th>50%</th>\n",
       "      <td>953.000000</td>\n",
       "      <td>13.000000</td>\n",
       "    </tr>\n",
       "    <tr>\n",
       "      <th>75%</th>\n",
       "      <td>1902.000000</td>\n",
       "      <td>19.000000</td>\n",
       "    </tr>\n",
       "    <tr>\n",
       "      <th>max</th>\n",
       "      <td>48099.000000</td>\n",
       "      <td>25.000000</td>\n",
       "    </tr>\n",
       "  </tbody>\n",
       "</table>\n",
       "</div>"
      ],
      "text/plain": [
       "             dieSize     waferIndex\n",
       "count  811457.000000  811457.000000\n",
       "mean     1840.998585      12.961207\n",
       "std      2254.987374       7.207489\n",
       "min         3.000000       1.000000\n",
       "25%       710.000000       7.000000\n",
       "50%       953.000000      13.000000\n",
       "75%      1902.000000      19.000000\n",
       "max     48099.000000      25.000000"
      ]
     },
     "execution_count": 100,
     "metadata": {},
     "output_type": "execute_result"
    }
   ],
   "source": [
    "data.describe()"
   ]
  },
  {
   "cell_type": "code",
   "execution_count": 101,
   "id": "e6ffa53f",
   "metadata": {},
   "outputs": [
    {
     "data": {
      "text/html": [
       "<div>\n",
       "<style scoped>\n",
       "    .dataframe tbody tr th:only-of-type {\n",
       "        vertical-align: middle;\n",
       "    }\n",
       "\n",
       "    .dataframe tbody tr th {\n",
       "        vertical-align: top;\n",
       "    }\n",
       "\n",
       "    .dataframe thead th {\n",
       "        text-align: right;\n",
       "    }\n",
       "</style>\n",
       "<table border=\"1\" class=\"dataframe\">\n",
       "  <thead>\n",
       "    <tr style=\"text-align: right;\">\n",
       "      <th></th>\n",
       "      <th>waferMap</th>\n",
       "      <th>dieSize</th>\n",
       "      <th>lotName</th>\n",
       "      <th>waferIndex</th>\n",
       "      <th>trianTestLabel</th>\n",
       "      <th>failureType</th>\n",
       "    </tr>\n",
       "  </thead>\n",
       "  <tbody>\n",
       "    <tr>\n",
       "      <th>0</th>\n",
       "      <td>[[0, 0, 0, 0, 0, 0, 0, 0, 0, 0, 0, 0, 0, 0, 0,...</td>\n",
       "      <td>1683.0</td>\n",
       "      <td>lot1</td>\n",
       "      <td>1.0</td>\n",
       "      <td>[[Training]]</td>\n",
       "      <td>[[none]]</td>\n",
       "    </tr>\n",
       "    <tr>\n",
       "      <th>1</th>\n",
       "      <td>[[0, 0, 0, 0, 0, 0, 0, 0, 0, 0, 0, 0, 0, 0, 0,...</td>\n",
       "      <td>1683.0</td>\n",
       "      <td>lot1</td>\n",
       "      <td>2.0</td>\n",
       "      <td>[[Training]]</td>\n",
       "      <td>[[none]]</td>\n",
       "    </tr>\n",
       "    <tr>\n",
       "      <th>2</th>\n",
       "      <td>[[0, 0, 0, 0, 0, 0, 0, 0, 0, 0, 0, 0, 0, 0, 0,...</td>\n",
       "      <td>1683.0</td>\n",
       "      <td>lot1</td>\n",
       "      <td>3.0</td>\n",
       "      <td>[[Training]]</td>\n",
       "      <td>[[none]]</td>\n",
       "    </tr>\n",
       "    <tr>\n",
       "      <th>3</th>\n",
       "      <td>[[0, 0, 0, 0, 0, 0, 0, 0, 0, 0, 0, 0, 0, 0, 0,...</td>\n",
       "      <td>1683.0</td>\n",
       "      <td>lot1</td>\n",
       "      <td>4.0</td>\n",
       "      <td>[[Training]]</td>\n",
       "      <td>[[none]]</td>\n",
       "    </tr>\n",
       "    <tr>\n",
       "      <th>4</th>\n",
       "      <td>[[0, 0, 0, 0, 0, 0, 0, 0, 0, 0, 0, 0, 0, 0, 0,...</td>\n",
       "      <td>1683.0</td>\n",
       "      <td>lot1</td>\n",
       "      <td>5.0</td>\n",
       "      <td>[[Training]]</td>\n",
       "      <td>[[none]]</td>\n",
       "    </tr>\n",
       "  </tbody>\n",
       "</table>\n",
       "</div>"
      ],
      "text/plain": [
       "                                            waferMap  dieSize lotName  \\\n",
       "0  [[0, 0, 0, 0, 0, 0, 0, 0, 0, 0, 0, 0, 0, 0, 0,...   1683.0    lot1   \n",
       "1  [[0, 0, 0, 0, 0, 0, 0, 0, 0, 0, 0, 0, 0, 0, 0,...   1683.0    lot1   \n",
       "2  [[0, 0, 0, 0, 0, 0, 0, 0, 0, 0, 0, 0, 0, 0, 0,...   1683.0    lot1   \n",
       "3  [[0, 0, 0, 0, 0, 0, 0, 0, 0, 0, 0, 0, 0, 0, 0,...   1683.0    lot1   \n",
       "4  [[0, 0, 0, 0, 0, 0, 0, 0, 0, 0, 0, 0, 0, 0, 0,...   1683.0    lot1   \n",
       "\n",
       "   waferIndex trianTestLabel failureType  \n",
       "0         1.0   [[Training]]    [[none]]  \n",
       "1         2.0   [[Training]]    [[none]]  \n",
       "2         3.0   [[Training]]    [[none]]  \n",
       "3         4.0   [[Training]]    [[none]]  \n",
       "4         5.0   [[Training]]    [[none]]  "
      ]
     },
     "execution_count": 101,
     "metadata": {},
     "output_type": "execute_result"
    }
   ],
   "source": [
    "data.head()"
   ]
  },
  {
   "cell_type": "code",
   "execution_count": 102,
   "id": "55d1a146",
   "metadata": {
    "collapsed": true
   },
   "outputs": [
    {
     "name": "stderr",
     "output_type": "stream",
     "text": [
      "C:\\Users\\anees\\anaconda3\\lib\\site-packages\\pandas\\core\\ops\\array_ops.py:73: FutureWarning: elementwise comparison failed; returning scalar instead, but in the future will perform elementwise comparison\n",
      "  result = libops.scalar_compare(x.ravel(), y, op)\n"
     ]
    },
    {
     "name": "stdout",
     "output_type": "stream",
     "text": [
      "147431 664026\n"
     ]
    }
   ],
   "source": [
    "print(len(data[data['failureType']=='none']), len(data[data['failureType']!='none']))"
   ]
  },
  {
   "cell_type": "code",
   "execution_count": 103,
   "id": "fc2d1db4",
   "metadata": {},
   "outputs": [
    {
     "data": {
      "text/plain": [
       "<matplotlib.image.AxesImage at 0x1b99aa5e2b0>"
      ]
     },
     "execution_count": 103,
     "metadata": {},
     "output_type": "execute_result"
    },
    {
     "data": {
      "image/png": "[encoded data removed]",
      "text/plain": [
       "<Figure size 432x288 with 1 Axes>"
      ]
     },
     "metadata": {
      "needs_background": "light"
     },
     "output_type": "display_data"
    }
   ],
   "source": [
    "import matplotlib.pyplot as plt\n",
    "plt.imshow(data['waferMap'].loc[0])"
   ]
  },
  {
   "cell_type": "markdown",
   "id": "1b689ddc",
   "metadata": {},
   "source": [
    "### Create dataset for good and defective sets"
   ]
  },
  {
   "cell_type": "code",
   "execution_count": 104,
   "id": "7389b037",
   "metadata": {},
   "outputs": [],
   "source": [
    "good_sample=data['waferMap'][data['failureType']=='none']"
   ]
  },
  {
   "cell_type": "code",
   "execution_count": 105,
   "id": "0d81c847",
   "metadata": {
    "collapsed": true
   },
   "outputs": [
    {
     "name": "stderr",
     "output_type": "stream",
     "text": [
      "C:\\Users\\anees\\anaconda3\\lib\\site-packages\\pandas\\core\\ops\\array_ops.py:73: FutureWarning: elementwise comparison failed; returning scalar instead, but in the future will perform elementwise comparison\n",
      "  result = libops.scalar_compare(x.ravel(), y, op)\n",
      "C:\\Users\\anees\\anaconda3\\lib\\site-packages\\pandas\\core\\ops\\array_ops.py:73: FutureWarning: elementwise comparison failed; returning scalar instead, but in the future will perform elementwise comparison\n",
      "  result = libops.scalar_compare(x.ravel(), y, op)\n",
      "C:\\Users\\anees\\anaconda3\\lib\\site-packages\\pandas\\core\\ops\\array_ops.py:73: FutureWarning: elementwise comparison failed; returning scalar instead, but in the future will perform elementwise comparison\n",
      "  result = libops.scalar_compare(x.ravel(), y, op)\n",
      "C:\\Users\\anees\\anaconda3\\lib\\site-packages\\pandas\\core\\ops\\array_ops.py:73: FutureWarning: elementwise comparison failed; returning scalar instead, but in the future will perform elementwise comparison\n",
      "  result = libops.scalar_compare(x.ravel(), y, op)\n",
      "C:\\Users\\anees\\anaconda3\\lib\\site-packages\\pandas\\core\\ops\\array_ops.py:73: FutureWarning: elementwise comparison failed; returning scalar instead, but in the future will perform elementwise comparison\n",
      "  result = libops.scalar_compare(x.ravel(), y, op)\n",
      "C:\\Users\\anees\\anaconda3\\lib\\site-packages\\pandas\\core\\ops\\array_ops.py:73: FutureWarning: elementwise comparison failed; returning scalar instead, but in the future will perform elementwise comparison\n",
      "  result = libops.scalar_compare(x.ravel(), y, op)\n",
      "C:\\Users\\anees\\anaconda3\\lib\\site-packages\\pandas\\core\\ops\\array_ops.py:73: FutureWarning: elementwise comparison failed; returning scalar instead, but in the future will perform elementwise comparison\n",
      "  result = libops.scalar_compare(x.ravel(), y, op)\n"
     ]
    }
   ],
   "source": [
    "types=['Center', 'Donut', 'Edge-Loc', 'Edge-Ring', 'Loc', 'Near-full', 'Random', 'Scratch']\n",
    "\n",
    "bad_sample=data['waferMap'][data['failureType']=='Edge-Ring']\n",
    "\n",
    "bad_samples=pd.DataFrame()\n",
    "for i in types:\n",
    "    a=data[data['failureType']==i]\n",
    "    bad_samples=pd.concat([bad_samples,pd.DataFrame(a)])"
   ]
  },
  {
   "cell_type": "code",
   "execution_count": 106,
   "id": "50774131",
   "metadata": {},
   "outputs": [],
   "source": [
    "good_sample=good_sample.reset_index(drop=True)\n",
    "bad_sample=bad_sample.reset_index(drop=True)"
   ]
  },
  {
   "cell_type": "code",
   "execution_count": 107,
   "id": "f4838a34",
   "metadata": {
    "scrolled": true
   },
   "outputs": [
    {
     "name": "stdout",
     "output_type": "stream",
     "text": [
      "(9680,) (147431,)\n"
     ]
    }
   ],
   "source": [
    "print(bad_sample.shape,good_sample.shape)"
   ]
  },
  {
   "cell_type": "markdown",
   "id": "42a8df05",
   "metadata": {},
   "source": [
    "### The dataset contains various sizes. Standardize all the imgaes as same dimentions"
   ]
  },
  {
   "cell_type": "code",
   "execution_count": 108,
   "id": "20e5943f",
   "metadata": {},
   "outputs": [
    {
     "name": "stdout",
     "output_type": "stream",
     "text": [
      "(64, 64) (53, 58)\n"
     ]
    },
    {
     "data": {
      "text/plain": [
       "<function matplotlib.pyplot.show(close=None, block=None)>"
      ]
     },
     "execution_count": 108,
     "metadata": {},
     "output_type": "execute_result"
    },
    {
     "data": {
      "image/png": "[encoded data removed]",
      "text/plain": [
       "<Figure size 432x288 with 2 Axes>"
      ]
     },
     "metadata": {
      "needs_background": "light"
     },
     "output_type": "display_data"
    }
   ],
   "source": [
    "img=good_sample[100]\n",
    "\n",
    "img1=cv2.resize(img,(64,64))\n",
    "print(img1.shape,img.shape)\n",
    "\n",
    "fig,ax=plt.subplots(2)\n",
    "\n",
    "ax[0].imshow(img1)\n",
    "ax[1].imshow(img)\n",
    "plt.show"
   ]
  },
  {
   "cell_type": "code",
   "execution_count": 109,
   "id": "c4e9300c",
   "metadata": {},
   "outputs": [],
   "source": [
    "for i in range(len(good_sample)):\n",
    "    good_sample[i]=cv2.resize(good_sample[i],(64,64))"
   ]
  },
  {
   "cell_type": "code",
   "execution_count": 110,
   "id": "d7fc0126",
   "metadata": {},
   "outputs": [],
   "source": [
    "for j in range(len(bad_sample)):\n",
    "    bad_sample[j]=cv2.resize(bad_sample[j],(64,64))"
   ]
  },
  {
   "cell_type": "code",
   "execution_count": 111,
   "id": "899975fd",
   "metadata": {},
   "outputs": [],
   "source": [
    "# Create dataset contaning 9000 non-defective and 9000 defective chip data\n",
    "x_train=[]\n",
    "for i in range(9000):\n",
    "    x_train.append(good_sample[i])\n",
    "    \n",
    "for i in range(9000):\n",
    "    x_train.append(bad_sample[i])"
   ]
  },
  {
   "cell_type": "code",
   "execution_count": 112,
   "id": "9c7765b3",
   "metadata": {},
   "outputs": [
    {
     "data": {
      "text/plain": [
       "(18000, 64, 64, 1)"
      ]
     },
     "execution_count": 112,
     "metadata": {},
     "output_type": "execute_result"
    }
   ],
   "source": [
    "x_train=np.array(x_train)\n",
    "x_train=x_train.reshape(18000,64,64,1)\n",
    "x_train.shape"
   ]
  },
  {
   "cell_type": "code",
   "execution_count": 113,
   "id": "4e0bd244",
   "metadata": {},
   "outputs": [
    {
     "data": {
      "text/plain": [
       "18000"
      ]
     },
     "execution_count": 113,
     "metadata": {},
     "output_type": "execute_result"
    }
   ],
   "source": [
    "y_train=np.concatenate([np.zeros(9000),np.ones(9000)])\n",
    "len(y_train)"
   ]
  },
  {
   "cell_type": "markdown",
   "id": "50ceba49",
   "metadata": {},
   "source": [
    "### Build CNN model with 2 Convolutional layers and one output layer."
   ]
  },
  {
   "cell_type": "code",
   "execution_count": 114,
   "id": "01f2d995",
   "metadata": {},
   "outputs": [],
   "source": [
    "import tensorflow as tf\n",
    "from tensorflow import keras"
   ]
  },
  {
   "cell_type": "code",
   "execution_count": 115,
   "id": "a069ab5c",
   "metadata": {},
   "outputs": [],
   "source": [
    "model=keras.Sequential([\n",
    "    keras.layers.Conv2D(filters=32,kernel_size=3,strides=(1, 1),input_shape=(64,64,1),padding=\"valid\", activation='relu'),\n",
    "    keras.layers.MaxPooling2D(), \n",
    "    keras.layers.Dropout(0.3),\n",
    "    keras.layers.Conv2D(filters=64,kernel_size=3, activation='relu'),\n",
    "    keras.layers.MaxPooling2D(),  \n",
    "    keras.layers.Dropout(0.3),\n",
    "    #keras. layers.Conv2D(filters=128,kernel_size=3, activation='relu'),\n",
    "    #keras.layers.MaxPooling2D(),\n",
    "    #keras.layers.Dropout(0.2),\n",
    "    #keras.layers.Conv2D(filters=256,kernel_size=3, activation='relu'),\n",
    "    #keras.layers.MaxPooling2D(),  \n",
    "    #keras.layers.Dropout(0.2),\n",
    "    keras.layers.Flatten(),\n",
    "    keras.layers.Dense(1,activation='sigmoid')\n",
    "    \n",
    "])\n",
    "\n",
    "model.compile(optimizer='adam',loss='binary_crossentropy',metrics=['accuracy'])\n",
    "\n"
   ]
  },
  {
   "cell_type": "code",
   "execution_count": 116,
   "id": "fc242788",
   "metadata": {
    "scrolled": false
   },
   "outputs": [
    {
     "name": "stdout",
     "output_type": "stream",
     "text": [
      "Epoch 1/5\n",
      "563/563 [==============================] - 52s 89ms/step - loss: 0.1104 - accuracy: 0.9586\n",
      "Epoch 2/5\n",
      "563/563 [==============================] - 51s 90ms/step - loss: 0.0330 - accuracy: 0.9888\n",
      "Epoch 3/5\n",
      "563/563 [==============================] - 51s 90ms/step - loss: 0.0216 - accuracy: 0.9926\n",
      "Epoch 4/5\n",
      "563/563 [==============================] - 50s 90ms/step - loss: 0.0138 - accuracy: 0.9950\n",
      "Epoch 5/5\n",
      "563/563 [==============================] - 52s 92ms/step - loss: 0.0113 - accuracy: 0.9964\n"
     ]
    },
    {
     "data": {
      "text/plain": [
       "<keras.callbacks.History at 0x1ba37c2f160>"
      ]
     },
     "execution_count": 116,
     "metadata": {},
     "output_type": "execute_result"
    }
   ],
   "source": [
    "model.fit(x_train,y_train,epochs=5)"
   ]
  },
  {
   "cell_type": "code",
   "execution_count": 117,
   "id": "dba21f7c",
   "metadata": {},
   "outputs": [
    {
     "data": {
      "text/plain": [
       "(1, 64, 64, 1)"
      ]
     },
     "execution_count": 117,
     "metadata": {},
     "output_type": "execute_result"
    }
   ],
   "source": [
    "#Test for some random value\n",
    "a=bad_sample[6000].reshape(-1,64,64,1)\n",
    "a.shape\n"
   ]
  },
  {
   "cell_type": "code",
   "execution_count": 118,
   "id": "f080c8d9",
   "metadata": {},
   "outputs": [
    {
     "name": "stdout",
     "output_type": "stream",
     "text": [
      "1/1 [==============================] - 0s 174ms/step\n"
     ]
    },
    {
     "data": {
      "text/plain": [
       "array([[0.9998627]], dtype=float32)"
      ]
     },
     "execution_count": 118,
     "metadata": {},
     "output_type": "execute_result"
    }
   ],
   "source": [
    "model.predict(a)\n",
    "#Prediction should be 1 for babd sample and 0 for good sample"
   ]
  },
  {
   "cell_type": "markdown",
   "id": "ad6b8170",
   "metadata": {},
   "source": [
    "### Create test set and check accuracy of the model"
   ]
  },
  {
   "cell_type": "code",
   "execution_count": 119,
   "id": "aed71378",
   "metadata": {},
   "outputs": [],
   "source": [
    "test_data=[]\n",
    "for i in range(1000):\n",
    "    test_data.append(good_sample[15000+i])\n",
    "for i in range(1000):\n",
    "    test_data.append(bad_sample[8500+i])\n",
    "test_data=np.array(test_data)\n",
    "test_data=test_data.reshape(2000,64,64,1)\n",
    "\n",
    "y_test=np.concatenate([np.zeros(1000),np.ones(1000)])"
   ]
  },
  {
   "cell_type": "code",
   "execution_count": 120,
   "id": "4f89de20",
   "metadata": {},
   "outputs": [],
   "source": [
    "for i in range(len(predicted)):\n",
    "    if predicted[i]<0.3:\n",
    "        predicted[i]=0\n",
    "    else:\n",
    "        predicted[i]=1"
   ]
  },
  {
   "cell_type": "code",
   "execution_count": 121,
   "id": "3c27ccca",
   "metadata": {
    "scrolled": true
   },
   "outputs": [
    {
     "name": "stdout",
     "output_type": "stream",
     "text": [
      "              precision    recall  f1-score   support\n",
      "\n",
      "         0.0       1.00      0.96      0.98      1047\n",
      "         1.0       0.95      1.00      0.98       953\n",
      "\n",
      "    accuracy                           0.98      2000\n",
      "   macro avg       0.98      0.98      0.98      2000\n",
      "weighted avg       0.98      0.98      0.98      2000\n",
      "\n"
     ]
    }
   ],
   "source": [
    "from sklearn.metrics import classification_report\n",
    "\n",
    "print(classification_report(predicted,y_test))"
   ]
  },
  {
   "cell_type": "markdown",
   "id": "4fda086c",
   "metadata": {},
   "source": [
    "The model gave accuracy of 98% to detect any defects in chips. "
   ]
  },
  {
   "cell_type": "markdown",
   "id": "bb659719",
   "metadata": {},
   "source": [
    "## Try to classify few defects types that are available in dataset"
   ]
  },
  {
   "cell_type": "code",
   "execution_count": 122,
   "id": "ae4cd35c",
   "metadata": {},
   "outputs": [
    {
     "data": {
      "text/plain": [
       "{'Center',\n",
       " 'Donut',\n",
       " 'Edge-Loc',\n",
       " 'Edge-Ring',\n",
       " 'Loc',\n",
       " 'Near-full',\n",
       " 'Random',\n",
       " 'Scratch',\n",
       " '[]',\n",
       " 'none'}"
      ]
     },
     "execution_count": 122,
     "metadata": {},
     "output_type": "execute_result"
    }
   ],
   "source": [
    "types=data['failureType'].reset_index(drop=True)\n",
    "classes=[]\n",
    "for i in range(len(types)):\n",
    "    classes.append(str(types[i].squeeze()))\n",
    "classes=set(classes)\n",
    "classes\n"
   ]
  },
  {
   "cell_type": "code",
   "execution_count": 123,
   "id": "b130c412",
   "metadata": {
    "collapsed": true
   },
   "outputs": [
    {
     "name": "stderr",
     "output_type": "stream",
     "text": [
      "C:\\Users\\anees\\anaconda3\\lib\\site-packages\\pandas\\core\\ops\\array_ops.py:73: FutureWarning: elementwise comparison failed; returning scalar instead, but in the future will perform elementwise comparison\n",
      "  result = libops.scalar_compare(x.ravel(), y, op)\n"
     ]
    }
   ],
   "source": [
    "types=['Center', 'Donut', 'Edge-Loc', 'Edge-Ring', 'Loc', 'Near-full', 'Random', 'Scratch']\n",
    "counts=[]\n",
    "for i in types:\n",
    "    counts.append(len(data[data['failureType']==i]))\n"
   ]
  },
  {
   "cell_type": "code",
   "execution_count": 124,
   "id": "18f439dc",
   "metadata": {},
   "outputs": [
    {
     "data": {
      "image/png": "[encoded data removed]",
      "text/plain": [
       "<Figure size 1800x720 with 1 Axes>"
      ]
     },
     "metadata": {
      "needs_background": "light"
     },
     "output_type": "display_data"
    }
   ],
   "source": [
    "# Available defects trend in the dataset\n",
    "plt.rcParams['figure.figsize'] = [25,10]\n",
    "plt.bar(types,counts)\n",
    "plt.show()"
   ]
  },
  {
   "cell_type": "markdown",
   "id": "454d0b74",
   "metadata": {},
   "source": [
    "### Creating traing and test data for defect types Cente, Edge-Loc, Edge-Ring, Loc "
   ]
  },
  {
   "cell_type": "code",
   "execution_count": 125,
   "id": "8b695ebb",
   "metadata": {
    "collapsed": true
   },
   "outputs": [
    {
     "name": "stderr",
     "output_type": "stream",
     "text": [
      "C:\\Users\\anees\\anaconda3\\lib\\site-packages\\pandas\\core\\ops\\array_ops.py:73: FutureWarning: elementwise comparison failed; returning scalar instead, but in the future will perform elementwise comparison\n",
      "  result = libops.scalar_compare(x.ravel(), y, op)\n",
      "C:\\Users\\anees\\anaconda3\\lib\\site-packages\\pandas\\core\\ops\\array_ops.py:73: FutureWarning: elementwise comparison failed; returning scalar instead, but in the future will perform elementwise comparison\n",
      "  result = libops.scalar_compare(x.ravel(), y, op)\n",
      "C:\\Users\\anees\\anaconda3\\lib\\site-packages\\pandas\\core\\ops\\array_ops.py:73: FutureWarning: elementwise comparison failed; returning scalar instead, but in the future will perform elementwise comparison\n",
      "  result = libops.scalar_compare(x.ravel(), y, op)\n",
      "C:\\Users\\anees\\anaconda3\\lib\\site-packages\\pandas\\core\\ops\\array_ops.py:73: FutureWarning: elementwise comparison failed; returning scalar instead, but in the future will perform elementwise comparison\n",
      "  result = libops.scalar_compare(x.ravel(), y, op)\n"
     ]
    },
    {
     "name": "stdout",
     "output_type": "stream",
     "text": [
      "(14000,)\n"
     ]
    }
   ],
   "source": [
    "# training data\n",
    "types1=['Center', 'Edge-Loc', 'Edge-Ring', 'Loc']\n",
    "x_train1=pd.DataFrame()\n",
    "for i in types1:\n",
    "    #for j in range(500):\n",
    "    #print(i)\n",
    "    a=data[data['failureType']==i].iloc[:3500]\n",
    "    #a=a['waferMap']\n",
    "    #print(type(a))\n",
    "    x_train1=pd.concat([x_train1,pd.DataFrame(a)])\n",
    "\n",
    "# Select only waferMap\n",
    "x_train1=x_train1['waferMap']\n",
    "x_train1=np.array(x_train1)   \n",
    "#validating data of all classes\n",
    "print(x_train1.shape)\n"
   ]
  },
  {
   "cell_type": "code",
   "execution_count": 126,
   "id": "001f1b07",
   "metadata": {},
   "outputs": [],
   "source": [
    "# Resize all images into same sizes\n",
    "for i in range(len(x_train1)):\n",
    "    x_train1[i]=cv2.resize(x_train1[i],(64,64))"
   ]
  },
  {
   "cell_type": "code",
   "execution_count": 127,
   "id": "e0244fb2",
   "metadata": {
    "scrolled": true
   },
   "outputs": [
    {
     "data": {
      "text/plain": [
       "(64, 64)"
      ]
     },
     "execution_count": 127,
     "metadata": {},
     "output_type": "execute_result"
    }
   ],
   "source": [
    "x_train1[0].shape"
   ]
  },
  {
   "cell_type": "code",
   "execution_count": 128,
   "id": "dd105baa",
   "metadata": {},
   "outputs": [],
   "source": [
    "# Exctract all data in a numpy array\n",
    "x_train2=[]\n",
    "for i in range(len(x_train1)):\n",
    "    x_train2.append(x_train1[i])"
   ]
  },
  {
   "cell_type": "code",
   "execution_count": 129,
   "id": "3430a062",
   "metadata": {},
   "outputs": [
    {
     "data": {
      "text/plain": [
       "(14000, 64, 64, 1)"
      ]
     },
     "execution_count": 129,
     "metadata": {},
     "output_type": "execute_result"
    }
   ],
   "source": [
    "x_train2=np.array(x_train2)\n",
    "x_train2=x_train2.reshape(-1,64,64,1)\n",
    "x_train2.shape"
   ]
  },
  {
   "cell_type": "code",
   "execution_count": 130,
   "id": "52111151",
   "metadata": {},
   "outputs": [
    {
     "data": {
      "text/plain": [
       "array([0, 1, 2, 3])"
      ]
     },
     "execution_count": 130,
     "metadata": {},
     "output_type": "execute_result"
    }
   ],
   "source": [
    "# Create output classes for training\n",
    "y_train1=[]\n",
    "\n",
    "for i in range(len(types1)):\n",
    "    for j in range(3500):\n",
    "        y_train1.append(i)\n",
    "y_train1=np.array(y_train1)\n",
    "np.unique(y_train1)"
   ]
  },
  {
   "cell_type": "code",
   "execution_count": 131,
   "id": "00ed7fc4",
   "metadata": {
    "collapsed": true
   },
   "outputs": [
    {
     "name": "stderr",
     "output_type": "stream",
     "text": [
      "C:\\Users\\anees\\anaconda3\\lib\\site-packages\\pandas\\core\\ops\\array_ops.py:73: FutureWarning: elementwise comparison failed; returning scalar instead, but in the future will perform elementwise comparison\n",
      "  result = libops.scalar_compare(x.ravel(), y, op)\n",
      "C:\\Users\\anees\\anaconda3\\lib\\site-packages\\pandas\\core\\ops\\array_ops.py:73: FutureWarning: elementwise comparison failed; returning scalar instead, but in the future will perform elementwise comparison\n",
      "  result = libops.scalar_compare(x.ravel(), y, op)\n"
     ]
    },
    {
     "name": "stdout",
     "output_type": "stream",
     "text": [
      "Center (500, 6)\n",
      "Edge-Loc (500, 6)\n"
     ]
    },
    {
     "name": "stderr",
     "output_type": "stream",
     "text": [
      "C:\\Users\\anees\\anaconda3\\lib\\site-packages\\pandas\\core\\ops\\array_ops.py:73: FutureWarning: elementwise comparison failed; returning scalar instead, but in the future will perform elementwise comparison\n",
      "  result = libops.scalar_compare(x.ravel(), y, op)\n",
      "C:\\Users\\anees\\anaconda3\\lib\\site-packages\\pandas\\core\\ops\\array_ops.py:73: FutureWarning: elementwise comparison failed; returning scalar instead, but in the future will perform elementwise comparison\n",
      "  result = libops.scalar_compare(x.ravel(), y, op)\n"
     ]
    },
    {
     "name": "stdout",
     "output_type": "stream",
     "text": [
      "Edge-Ring (500, 6)\n",
      "Loc (500, 6)\n"
     ]
    }
   ],
   "source": [
    "# testing data\n",
    "types1=['Center', 'Edge-Loc', 'Edge-Ring', 'Loc']\n",
    "test_data1=pd.DataFrame()\n",
    "y_testd1=[]\n",
    "c=0\n",
    "for i in types1:\n",
    "    a=data[data['failureType']==i].tail(500)\n",
    "    test_data1=pd.concat([test_data1,pd.DataFrame(a)])\n",
    "    \n",
    "    print(i,a.shape)\n",
    "    for j in range(500):\n",
    "        y_testd1.append(c)\n",
    "    c+=1\n",
    "    \n",
    "test_data1=test_data1['waferMap']\n",
    "\n",
    "test_data1=test_data1.reset_index(drop=True)\n",
    "\n",
    "test_data2=[]\n",
    "for i in range(len(test_data1)):\n",
    "    test_data1[i]=cv2.resize(test_data1[i],(64,64))\n",
    "\n",
    "    test_data2.append(test_data1[i].squeeze())\n",
    "\n",
    "test_data2=np.array(test_data2)\n",
    "test_data2=test_data2.reshape(2000,64,64,1)"
   ]
  },
  {
   "cell_type": "code",
   "execution_count": 132,
   "id": "58e6b3d1",
   "metadata": {},
   "outputs": [],
   "source": [
    "import tensorflow as tf\n",
    "from tensorflow import keras"
   ]
  },
  {
   "cell_type": "markdown",
   "id": "2fafc2d2",
   "metadata": {},
   "source": [
    "### Data Augmentation and model fitting"
   ]
  },
  {
   "cell_type": "code",
   "execution_count": 133,
   "id": "8178b1c5",
   "metadata": {},
   "outputs": [],
   "source": [
    "\n",
    "data_augmentation = keras.Sequential([\n",
    "    keras.layers.experimental.preprocessing.RandomFlip(\"horizontal\",input_shape=(64, 64,1)),\n",
    "    #keras.layers.experimental.preprocessing.RandomFlip(\"vertical\",input_shape=(64, 64,1)),\n",
    "    #keras.layers.experimental.preprocessing.RandomRotation(0.2),\n",
    "    keras.layers.experimental.preprocessing.RandomRotation(0.1),\n",
    "    #keras.layers.experimental.preprocessing.RandomRotation(0.3),\n",
    "    #keras.layers.experimental.preprocessing.RandomZoom(0.2),\n",
    "    keras.layers.experimental.preprocessing.RandomZoom(0.1)])"
   ]
  },
  {
   "cell_type": "code",
   "execution_count": 134,
   "id": "8f9ea045",
   "metadata": {},
   "outputs": [],
   "source": [
    "model1=keras.Sequential([\n",
    "    data_augmentation,\n",
    "    keras.layers.Conv2D(filters=32,kernel_size=3,strides=(1, 1),input_shape=(64,64,1),padding=\"valid\", activation='relu'),\n",
    "    keras.layers.MaxPooling2D(),  \n",
    "    keras.layers.Dropout(0.2),\n",
    "    keras.layers.Conv2D(filters=64,kernel_size=3, activation='relu'),\n",
    "    keras.layers.MaxPooling2D(),  \n",
    "    keras.layers.Dropout(0.2),\n",
    "    keras. layers.Conv2D(filters=128,kernel_size=3, activation='relu'),\n",
    "    keras.layers.MaxPooling2D(),\n",
    "    keras.layers.Dropout(0.2),\n",
    "    keras.layers.Conv2D(filters=256,kernel_size=3, activation='relu'),\n",
    "    keras.layers.MaxPooling2D(),  \n",
    "    keras.layers.Dropout(0.2),\n",
    "    keras.layers.Flatten(),\n",
    "    keras.layers.Dense(100,activation='relu'),\n",
    "    keras.layers.Dense(10,activation='relu'),\n",
    "    keras.layers.Dense(4,activation='sigmoid')\n",
    "    \n",
    "])\n",
    "\n",
    "model1.compile(optimizer='adam',loss='sparse_categorical_crossentropy',metrics=['accuracy'])\n",
    "\n"
   ]
  },
  {
   "cell_type": "code",
   "execution_count": 135,
   "id": "25167db7",
   "metadata": {},
   "outputs": [
    {
     "name": "stdout",
     "output_type": "stream",
     "text": [
      "Epoch 1/5\n",
      "WARNING:tensorflow:Using a while_loop for converting RngReadAndSkip cause there is no registered converter for this op.\n",
      "WARNING:tensorflow:Using a while_loop for converting Bitcast cause there is no registered converter for this op.\n",
      "WARNING:tensorflow:Using a while_loop for converting Bitcast cause there is no registered converter for this op.\n",
      "WARNING:tensorflow:Using a while_loop for converting StatelessRandomUniformV2 cause there is no registered converter for this op.\n",
      "WARNING:tensorflow:Using a while_loop for converting ImageProjectiveTransformV3 cause there is no registered converter for this op.\n",
      "WARNING:tensorflow:Using a while_loop for converting RngReadAndSkip cause there is no registered converter for this op.\n",
      "WARNING:tensorflow:Using a while_loop for converting Bitcast cause there is no registered converter for this op.\n",
      "WARNING:tensorflow:Using a while_loop for converting Bitcast cause there is no registered converter for this op.\n",
      "WARNING:tensorflow:Using a while_loop for converting StatelessRandomUniformV2 cause there is no registered converter for this op.\n",
      "WARNING:tensorflow:Using a while_loop for converting ImageProjectiveTransformV3 cause there is no registered converter for this op.\n",
      "WARNING:tensorflow:Using a while_loop for converting RngReadAndSkip cause there is no registered converter for this op.\n",
      "WARNING:tensorflow:Using a while_loop for converting Bitcast cause there is no registered converter for this op.\n",
      "WARNING:tensorflow:Using a while_loop for converting Bitcast cause there is no registered converter for this op.\n",
      "WARNING:tensorflow:Using a while_loop for converting StatelessRandomUniformV2 cause there is no registered converter for this op.\n",
      "WARNING:tensorflow:Using a while_loop for converting ImageProjectiveTransformV3 cause there is no registered converter for this op.\n",
      "WARNING:tensorflow:Using a while_loop for converting RngReadAndSkip cause there is no registered converter for this op.\n",
      "WARNING:tensorflow:Using a while_loop for converting Bitcast cause there is no registered converter for this op.\n",
      "WARNING:tensorflow:Using a while_loop for converting Bitcast cause there is no registered converter for this op.\n",
      "WARNING:tensorflow:Using a while_loop for converting StatelessRandomUniformV2 cause there is no registered converter for this op.\n",
      "WARNING:tensorflow:Using a while_loop for converting ImageProjectiveTransformV3 cause there is no registered converter for this op.\n",
      "438/438 [==============================] - 83s 140ms/step - loss: 0.6791 - accuracy: 0.6927\n",
      "Epoch 2/5\n",
      "438/438 [==============================] - 61s 139ms/step - loss: 0.3658 - accuracy: 0.8502\n",
      "Epoch 3/5\n",
      "438/438 [==============================] - 61s 139ms/step - loss: 0.2887 - accuracy: 0.8837\n",
      "Epoch 4/5\n",
      "438/438 [==============================] - 61s 140ms/step - loss: 0.2547 - accuracy: 0.8954\n",
      "Epoch 5/5\n",
      "438/438 [==============================] - 61s 140ms/step - loss: 0.2371 - accuracy: 0.9058\n"
     ]
    },
    {
     "data": {
      "text/plain": [
       "<keras.callbacks.History at 0x1ba36811700>"
      ]
     },
     "execution_count": 135,
     "metadata": {},
     "output_type": "execute_result"
    }
   ],
   "source": [
    "model1.fit(x_train2,y_train1,epochs=5)"
   ]
  },
  {
   "cell_type": "code",
   "execution_count": 136,
   "id": "60b7ecf3",
   "metadata": {},
   "outputs": [
    {
     "name": "stdout",
     "output_type": "stream",
     "text": [
      "63/63 [==============================] - 2s 33ms/step\n",
      "              precision    recall  f1-score   support\n",
      "\n",
      "           0       0.96      0.86      0.91       500\n",
      "           1       0.57      0.84      0.68       500\n",
      "           2       0.84      0.76      0.80       500\n",
      "           3       0.88      0.64      0.74       500\n",
      "\n",
      "    accuracy                           0.78      2000\n",
      "   macro avg       0.81      0.78      0.78      2000\n",
      "weighted avg       0.81      0.78      0.78      2000\n",
      "\n"
     ]
    }
   ],
   "source": [
    "from sklearn.metrics import classification_report\n",
    "four_class_pred=model1.predict(test_data2)\n",
    "pred4class=[]\n",
    "for i in range(len(four_class_pred)):\n",
    "    pred4class.append(np.argmax(four_class_pred[i]))\n",
    "print(classification_report(y_testd1,pred4class))"
   ]
  },
  {
   "cell_type": "markdown",
   "id": "869949a9",
   "metadata": {},
   "source": [
    "For few prominent defect types in the dataset, we have recieved 78% accuracy. "
   ]
  }
 ],
 "metadata": {
  "kernelspec": {
   "display_name": "Python 3 (ipykernel)",
   "language": "python",
   "name": "python3"
  },
  "language_info": {
   "codemirror_mode": {
    "name": "ipython",
    "version": 3
   },
   "file_extension": ".py",
   "mimetype": "text/x-python",
   "name": "python",
   "nbconvert_exporter": "python",
   "pygments_lexer": "ipython3",
   "version": "3.9.12"
  }
 },
 "nbformat": 4,
 "nbformat_minor": 5
}
